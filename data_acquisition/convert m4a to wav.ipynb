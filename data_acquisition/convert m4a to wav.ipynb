{
 "cells": [
  {
   "cell_type": "code",
   "execution_count": 14,
   "id": "489eff28",
   "metadata": {},
   "outputs": [],
   "source": [
    "from pydub import AudioSegment\n",
    "import os\n",
    "from tqdm import tqdm"
   ]
  },
  {
   "cell_type": "code",
   "execution_count": 8,
   "id": "7a619b86",
   "metadata": {},
   "outputs": [],
   "source": [
    "# Get the list of all files and directories\n",
    "path = \"C:/Users/Velkey Artúr/Desktop/Textmining/videok/MZP/hangfileok\"\n",
    "dir_list = os.listdir(path)"
   ]
  },
  {
   "cell_type": "code",
   "execution_count": 9,
   "id": "07ea60c0",
   "metadata": {},
   "outputs": [],
   "source": [
    "mzp_file_list = [i for i in dir_list if i[:3] == \"mzp\"]"
   ]
  },
  {
   "cell_type": "code",
   "execution_count": 7,
   "id": "a5d397ec",
   "metadata": {},
   "outputs": [
    {
     "data": {
      "text/plain": [
       "<_io.BufferedRandom name='output.wav'>"
      ]
     },
     "execution_count": 7,
     "metadata": {},
     "output_type": "execute_result"
    }
   ],
   "source": [
    "sound = AudioSegment.from_file(mzp_file_list[0])\n",
    "sound.export(\"output.wav\", format=\"wav\")"
   ]
  },
  {
   "cell_type": "code",
   "execution_count": 16,
   "id": "0a2371d9",
   "metadata": {},
   "outputs": [
    {
     "name": "stderr",
     "output_type": "stream",
     "text": [
      "100%|██████████████████████████████████████████████████████████████████████████████████| 70/70 [06:55<00:00,  5.94s/it]\n"
     ]
    }
   ],
   "source": [
    "for i in tqdm(mzp_file_list):\n",
    "    oldname = path + \"/\" + i\n",
    "    sound = AudioSegment.from_file(oldname)\n",
    "    newname = path + \"/new files/\" + i[:-3] + \"wav\"\n",
    "    sound.export(newname, format=\"wav\")"
   ]
  },
  {
   "cell_type": "code",
   "execution_count": 18,
   "id": "a4334eb6",
   "metadata": {},
   "outputs": [
    {
     "data": {
      "text/plain": [
       "<_io.BufferedRandom name='C:/Users/Velkey Artúr/Desktop/Textmining/videok/MZP/hangfileok/new files/mzp_1 (2).wav'>"
      ]
     },
     "execution_count": 18,
     "metadata": {},
     "output_type": "execute_result"
    }
   ],
   "source": [
    "newname = path + \"/new files/\" + \"mzp_1 (2)\" + \".wav\"\n",
    "oldname = path + \"/new files/\" + \"mzp_1 (2)\" + \".m4a\"\n",
    "sound = AudioSegment.from_file(oldname)\n",
    "sound.export(newname, format=\"wav\")"
   ]
  },
  {
   "cell_type": "code",
   "execution_count": null,
   "id": "553eaa71",
   "metadata": {},
   "outputs": [],
   "source": []
  }
 ],
 "metadata": {
  "kernelspec": {
   "display_name": "Python 3 (ipykernel)",
   "language": "python",
   "name": "python3"
  },
  "language_info": {
   "codemirror_mode": {
    "name": "ipython",
    "version": 3
   },
   "file_extension": ".py",
   "mimetype": "text/x-python",
   "name": "python",
   "nbconvert_exporter": "python",
   "pygments_lexer": "ipython3",
   "version": "3.10.4"
  }
 },
 "nbformat": 4,
 "nbformat_minor": 5
}
