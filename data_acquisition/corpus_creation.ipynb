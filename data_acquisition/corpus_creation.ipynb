{
 "cells": [
  {
   "cell_type": "code",
   "execution_count": 1,
   "id": "ef5802ad",
   "metadata": {},
   "outputs": [],
   "source": [
    "import pandas as pd\n",
    "import docx2txt\n",
    "import os\n",
    "import time\n",
    "import datetime"
   ]
  },
  {
   "cell_type": "code",
   "execution_count": null,
   "id": "04734899",
   "metadata": {},
   "outputs": [],
   "source": [
    "word_path = \"C:/Users/Velkey Artúr/Desktop/Textmining/videok/MZP/hangfileok/sövegek\"\n",
    "file_path = \"C:/Users/Velkey Artúr/Desktop/Textmining/videok/MZP/hangfileok\""
   ]
  },
  {
   "cell_type": "code",
   "execution_count": 2,
   "id": "813f742b",
   "metadata": {},
   "outputs": [],
   "source": [
    "#leirat és audio fileok listája\n",
    "mzp_word_list = [i for i in os.listdir(word_path) if i[:3] == \"mzp\"]\n",
    "mzp_file_list = [i for i in os.listdir(file_path) if i[:3] == \"mzp\"]"
   ]
  },
  {
   "cell_type": "code",
   "execution_count": 3,
   "id": "c02c213c",
   "metadata": {},
   "outputs": [],
   "source": [
    "#append the creation date of the audio file, this is the publication date of the youtube video\n",
    "create_time_of_file = [os.path.getctime(f\"{file_path}/{filename}\") for filename in mzp_file_list]\n",
    "#create the audio file DF\n",
    "file_date_df = pd.DataFrame({\"filename_m4a\" : mzp_file_list, \"date\" : pd.to_datetime(create_time_of_file, unit = \"s\")})\n",
    "#create new col to join on\n",
    "file_date_df[\"filename\"] = file_date_df[\"filename_m4a\"].apply(lambda row: row[:row.find(\".\")])"
   ]
  },
  {
   "cell_type": "code",
   "execution_count": 6,
   "id": "e6293d67",
   "metadata": {},
   "outputs": [],
   "source": [
    "#create the text DF\n",
    "word_df = pd.DataFrame({\"filename_word\": mzp_word_list, \"text\": [docx2txt.process(f\"{word_path}/{word}\") for word in mzp_word_list]})\n",
    "#new col to join on\n",
    "word_df[\"filename\"] = word_df[\"filename_word\"].apply(lambda row: row[:row.find(\"e\")-1])"
   ]
  },
  {
   "cell_type": "code",
   "execution_count": 8,
   "id": "b20701e1",
   "metadata": {},
   "outputs": [
    {
     "data": {
      "text/html": [
       "<div>\n",
       "<style scoped>\n",
       "    .dataframe tbody tr th:only-of-type {\n",
       "        vertical-align: middle;\n",
       "    }\n",
       "\n",
       "    .dataframe tbody tr th {\n",
       "        vertical-align: top;\n",
       "    }\n",
       "\n",
       "    .dataframe thead th {\n",
       "        text-align: right;\n",
       "    }\n",
       "</style>\n",
       "<table border=\"1\" class=\"dataframe\">\n",
       "  <thead>\n",
       "    <tr style=\"text-align: right;\">\n",
       "      <th></th>\n",
       "      <th>filename_word</th>\n",
       "      <th>text</th>\n",
       "      <th>filename</th>\n",
       "    </tr>\n",
       "  </thead>\n",
       "  <tbody>\n",
       "    <tr>\n",
       "      <th>0</th>\n",
       "      <td>mzp_1 (1)_eredeti.docx</td>\n",
       "      <td>Pillanatnyilag semmi nem utalt rá, de időm még...</td>\n",
       "      <td>mzp_1 (1)</td>\n",
       "    </tr>\n",
       "    <tr>\n",
       "      <th>1</th>\n",
       "      <td>mzp_1 (10)_eredeti.docx</td>\n",
       "      <td>Minden érdeklődőt elsősorban, de amikor nagyon...</td>\n",
       "      <td>mzp_1 (10)</td>\n",
       "    </tr>\n",
       "    <tr>\n",
       "      <th>2</th>\n",
       "      <td>mzp_1 (11)_eredeti.docx</td>\n",
       "      <td>Vallják. Elsősorban azonban ezt a hátunk mögöt...</td>\n",
       "      <td>mzp_1 (11)</td>\n",
       "    </tr>\n",
       "    <tr>\n",
       "      <th>3</th>\n",
       "      <td>mzp_1 (12)_eredeti.docx</td>\n",
       "      <td>Országa, ahol az egész világon a második legtö...</td>\n",
       "      <td>mzp_1 (12)</td>\n",
       "    </tr>\n",
       "    <tr>\n",
       "      <th>4</th>\n",
       "      <td>mzp_1 (13)_eredeti.docx</td>\n",
       "      <td>Köszönöm szépen. Hát ha már egy publikus felmé...</td>\n",
       "      <td>mzp_1 (13)</td>\n",
       "    </tr>\n",
       "  </tbody>\n",
       "</table>\n",
       "</div>"
      ],
      "text/plain": [
       "             filename_word                                               text  \\\n",
       "0   mzp_1 (1)_eredeti.docx  Pillanatnyilag semmi nem utalt rá, de időm még...   \n",
       "1  mzp_1 (10)_eredeti.docx  Minden érdeklődőt elsősorban, de amikor nagyon...   \n",
       "2  mzp_1 (11)_eredeti.docx  Vallják. Elsősorban azonban ezt a hátunk mögöt...   \n",
       "3  mzp_1 (12)_eredeti.docx  Országa, ahol az egész világon a második legtö...   \n",
       "4  mzp_1 (13)_eredeti.docx  Köszönöm szépen. Hát ha már egy publikus felmé...   \n",
       "\n",
       "     filename  \n",
       "0   mzp_1 (1)  \n",
       "1  mzp_1 (10)  \n",
       "2  mzp_1 (11)  \n",
       "3  mzp_1 (12)  \n",
       "4  mzp_1 (13)  "
      ]
     },
     "execution_count": 8,
     "metadata": {},
     "output_type": "execute_result"
    }
   ],
   "source": [
    "word_df.head()"
   ]
  },
  {
   "cell_type": "code",
   "execution_count": 9,
   "id": "484113bb",
   "metadata": {},
   "outputs": [
    {
     "data": {
      "text/html": [
       "<div>\n",
       "<style scoped>\n",
       "    .dataframe tbody tr th:only-of-type {\n",
       "        vertical-align: middle;\n",
       "    }\n",
       "\n",
       "    .dataframe tbody tr th {\n",
       "        vertical-align: top;\n",
       "    }\n",
       "\n",
       "    .dataframe thead th {\n",
       "        text-align: right;\n",
       "    }\n",
       "</style>\n",
       "<table border=\"1\" class=\"dataframe\">\n",
       "  <thead>\n",
       "    <tr style=\"text-align: right;\">\n",
       "      <th></th>\n",
       "      <th>filename_m4a</th>\n",
       "      <th>date</th>\n",
       "      <th>filename</th>\n",
       "    </tr>\n",
       "  </thead>\n",
       "  <tbody>\n",
       "    <tr>\n",
       "      <th>0</th>\n",
       "      <td>mzp_1 (1).m4a</td>\n",
       "      <td>2021-10-09 20:25:18</td>\n",
       "      <td>mzp_1 (1)</td>\n",
       "    </tr>\n",
       "    <tr>\n",
       "      <th>1</th>\n",
       "      <td>mzp_1 (10).m4a</td>\n",
       "      <td>2021-09-06 17:23:19</td>\n",
       "      <td>mzp_1 (10)</td>\n",
       "    </tr>\n",
       "    <tr>\n",
       "      <th>2</th>\n",
       "      <td>mzp_1 (11).m4a</td>\n",
       "      <td>2021-09-07 12:31:16</td>\n",
       "      <td>mzp_1 (11)</td>\n",
       "    </tr>\n",
       "    <tr>\n",
       "      <th>3</th>\n",
       "      <td>mzp_1 (12).m4a</td>\n",
       "      <td>2021-09-04 10:11:39</td>\n",
       "      <td>mzp_1 (12)</td>\n",
       "    </tr>\n",
       "    <tr>\n",
       "      <th>4</th>\n",
       "      <td>mzp_1 (13).m4a</td>\n",
       "      <td>2021-09-20 15:02:05</td>\n",
       "      <td>mzp_1 (13)</td>\n",
       "    </tr>\n",
       "  </tbody>\n",
       "</table>\n",
       "</div>"
      ],
      "text/plain": [
       "     filename_m4a                date    filename\n",
       "0   mzp_1 (1).m4a 2021-10-09 20:25:18   mzp_1 (1)\n",
       "1  mzp_1 (10).m4a 2021-09-06 17:23:19  mzp_1 (10)\n",
       "2  mzp_1 (11).m4a 2021-09-07 12:31:16  mzp_1 (11)\n",
       "3  mzp_1 (12).m4a 2021-09-04 10:11:39  mzp_1 (12)\n",
       "4  mzp_1 (13).m4a 2021-09-20 15:02:05  mzp_1 (13)"
      ]
     },
     "execution_count": 9,
     "metadata": {},
     "output_type": "execute_result"
    }
   ],
   "source": [
    "file_date_df.head()"
   ]
  },
  {
   "cell_type": "code",
   "execution_count": 90,
   "id": "ef2a0b44",
   "metadata": {},
   "outputs": [],
   "source": [
    "#join the two dataframes\n",
    "fifty_percent_text = pd.merge(word_df, file_date_df, on = \"filename\").loc[:,[\"text\",\"filename\",\"date\"]]"
   ]
  },
  {
   "cell_type": "code",
   "execution_count": 91,
   "id": "4cb3241e",
   "metadata": {},
   "outputs": [
    {
     "data": {
      "text/html": [
       "<div>\n",
       "<style scoped>\n",
       "    .dataframe tbody tr th:only-of-type {\n",
       "        vertical-align: middle;\n",
       "    }\n",
       "\n",
       "    .dataframe tbody tr th {\n",
       "        vertical-align: top;\n",
       "    }\n",
       "\n",
       "    .dataframe thead th {\n",
       "        text-align: right;\n",
       "    }\n",
       "</style>\n",
       "<table border=\"1\" class=\"dataframe\">\n",
       "  <thead>\n",
       "    <tr style=\"text-align: right;\">\n",
       "      <th></th>\n",
       "      <th>text</th>\n",
       "      <th>filename</th>\n",
       "      <th>date</th>\n",
       "    </tr>\n",
       "  </thead>\n",
       "  <tbody>\n",
       "    <tr>\n",
       "      <th>0</th>\n",
       "      <td>Pillanatnyilag semmi nem utalt rá, de időm még...</td>\n",
       "      <td>mzp_1 (1)</td>\n",
       "      <td>2021-10-09 20:25:18</td>\n",
       "    </tr>\n",
       "    <tr>\n",
       "      <th>1</th>\n",
       "      <td>Minden érdeklődőt elsősorban, de amikor nagyon...</td>\n",
       "      <td>mzp_1 (10)</td>\n",
       "      <td>2021-09-06 17:23:19</td>\n",
       "    </tr>\n",
       "    <tr>\n",
       "      <th>2</th>\n",
       "      <td>Vallják. Elsősorban azonban ezt a hátunk mögöt...</td>\n",
       "      <td>mzp_1 (11)</td>\n",
       "      <td>2021-09-07 12:31:16</td>\n",
       "    </tr>\n",
       "    <tr>\n",
       "      <th>3</th>\n",
       "      <td>Országa, ahol az egész világon a második legtö...</td>\n",
       "      <td>mzp_1 (12)</td>\n",
       "      <td>2021-09-04 10:11:39</td>\n",
       "    </tr>\n",
       "    <tr>\n",
       "      <th>4</th>\n",
       "      <td>Köszönöm szépen. Hát ha már egy publikus felmé...</td>\n",
       "      <td>mzp_1 (13)</td>\n",
       "      <td>2021-09-20 15:02:05</td>\n",
       "    </tr>\n",
       "  </tbody>\n",
       "</table>\n",
       "</div>"
      ],
      "text/plain": [
       "                                                text    filename  \\\n",
       "0  Pillanatnyilag semmi nem utalt rá, de időm még...   mzp_1 (1)   \n",
       "1  Minden érdeklődőt elsősorban, de amikor nagyon...  mzp_1 (10)   \n",
       "2  Vallják. Elsősorban azonban ezt a hátunk mögöt...  mzp_1 (11)   \n",
       "3  Országa, ahol az egész világon a második legtö...  mzp_1 (12)   \n",
       "4  Köszönöm szépen. Hát ha már egy publikus felmé...  mzp_1 (13)   \n",
       "\n",
       "                 date  \n",
       "0 2021-10-09 20:25:18  \n",
       "1 2021-09-06 17:23:19  \n",
       "2 2021-09-07 12:31:16  \n",
       "3 2021-09-04 10:11:39  \n",
       "4 2021-09-20 15:02:05  "
      ]
     },
     "execution_count": 91,
     "metadata": {},
     "output_type": "execute_result"
    }
   ],
   "source": [
    "fifty_percent_text.head()"
   ]
  },
  {
   "cell_type": "code",
   "execution_count": 92,
   "id": "b9efab5e",
   "metadata": {},
   "outputs": [],
   "source": [
    "path_ujsagok = \"C:/Users/Velkey Artúr/Desktop/Textmining/texts/text_as_data\""
   ]
  },
  {
   "cell_type": "code",
   "execution_count": 110,
   "id": "c5de325c",
   "metadata": {},
   "outputs": [],
   "source": [
    "#read in scraped newspaper datas\n",
    "telex = pd.read_parquet(f\"{path_ujsagok}/telex_data.parquet\")\n",
    "hu_24 = pd.read_parquet(f\"{path_ujsagok}/24hu_data.parquet\")\n",
    "origo = pd.read_parquet(f\"{path_ujsagok}/origo_data.parquet\")\n",
    "linkek_egyben = pd.read_parquet(f\"{path_ujsagok}/osszes_link.parquet\")"
   ]
  },
  {
   "cell_type": "code",
   "execution_count": 111,
   "id": "5d5489b5",
   "metadata": {},
   "outputs": [],
   "source": [
    "#join the publication date of the articles to the article datas\n",
    "teljes_ujsag_text = pd.merge(linkek_egyben.loc[:,[\"date\", \"url\"]], pd.concat([telex, hu_24, origo]), on = \"url\")"
   ]
  },
  {
   "cell_type": "code",
   "execution_count": 112,
   "id": "6ea87320",
   "metadata": {},
   "outputs": [
    {
     "data": {
      "text/html": [
       "<div>\n",
       "<style scoped>\n",
       "    .dataframe tbody tr th:only-of-type {\n",
       "        vertical-align: middle;\n",
       "    }\n",
       "\n",
       "    .dataframe tbody tr th {\n",
       "        vertical-align: top;\n",
       "    }\n",
       "\n",
       "    .dataframe thead th {\n",
       "        text-align: right;\n",
       "    }\n",
       "</style>\n",
       "<table border=\"1\" class=\"dataframe\">\n",
       "  <thead>\n",
       "    <tr style=\"text-align: right;\">\n",
       "      <th></th>\n",
       "      <th>date</th>\n",
       "      <th>url</th>\n",
       "      <th>title</th>\n",
       "      <th>text</th>\n",
       "      <th>ujsag</th>\n",
       "    </tr>\n",
       "  </thead>\n",
       "  <tbody>\n",
       "    <tr>\n",
       "      <th>0</th>\n",
       "      <td>2021-11-17</td>\n",
       "      <td>https://24.hu/kultura/2021/11/17/kovacs-akos-f...</td>\n",
       "      <td>A jövő év első felében mutathatják be Kovács Á...</td>\n",
       "      <td>2022 első felében mutathatják be a mozik Kovác...</td>\n",
       "      <td>24.hu</td>\n",
       "    </tr>\n",
       "    <tr>\n",
       "      <th>1</th>\n",
       "      <td>2021-11-17</td>\n",
       "      <td>https://24.hu/fn/uzleti-tippek/2021/11/17/nagy...</td>\n",
       "      <td>Így készültek a vállalatok a negyedik hullámra</td>\n",
       "      <td>Bár a nagyvállalatok többsége idén őszre már n...</td>\n",
       "      <td>24.hu</td>\n",
       "    </tr>\n",
       "    <tr>\n",
       "      <th>2</th>\n",
       "      <td>2021-11-17</td>\n",
       "      <td>https://24.hu/kulfold/2021/11/17/oltatlanok-ko...</td>\n",
       "      <td>Oltatlanok korlátozása Ausztriában: koalíciós ...</td>\n",
       "      <td>Ausztriában hétfőn lépett életbe az a kormányi...</td>\n",
       "      <td>24.hu</td>\n",
       "    </tr>\n",
       "    <tr>\n",
       "      <th>3</th>\n",
       "      <td>2021-11-17</td>\n",
       "      <td>https://24.hu/tech/2021/11/17/az-arcane-vihark...</td>\n",
       "      <td>Az Arcane viharként tarolta le a filmipart (X)</td>\n",
       "      <td>A Riot Games animációs sorozata még a legnagyo...</td>\n",
       "      <td>24.hu</td>\n",
       "    </tr>\n",
       "    <tr>\n",
       "      <th>4</th>\n",
       "      <td>2021-11-17</td>\n",
       "      <td>https://24.hu/belfold/2021/11/17/valasztasi-cs...</td>\n",
       "      <td>A kormány szerint nincs köze a választójoghoz ...</td>\n",
       "      <td>A parlament nemrég elfogadott egy módosító jav...</td>\n",
       "      <td>24.hu</td>\n",
       "    </tr>\n",
       "  </tbody>\n",
       "</table>\n",
       "</div>"
      ],
      "text/plain": [
       "         date                                                url  \\\n",
       "0  2021-11-17  https://24.hu/kultura/2021/11/17/kovacs-akos-f...   \n",
       "1  2021-11-17  https://24.hu/fn/uzleti-tippek/2021/11/17/nagy...   \n",
       "2  2021-11-17  https://24.hu/kulfold/2021/11/17/oltatlanok-ko...   \n",
       "3  2021-11-17  https://24.hu/tech/2021/11/17/az-arcane-vihark...   \n",
       "4  2021-11-17  https://24.hu/belfold/2021/11/17/valasztasi-cs...   \n",
       "\n",
       "                                               title  \\\n",
       "0  A jövő év első felében mutathatják be Kovács Á...   \n",
       "1     Így készültek a vállalatok a negyedik hullámra   \n",
       "2  Oltatlanok korlátozása Ausztriában: koalíciós ...   \n",
       "3     Az Arcane viharként tarolta le a filmipart (X)   \n",
       "4  A kormány szerint nincs köze a választójoghoz ...   \n",
       "\n",
       "                                                text  ujsag  \n",
       "0  2022 első felében mutathatják be a mozik Kovác...  24.hu  \n",
       "1  Bár a nagyvállalatok többsége idén őszre már n...  24.hu  \n",
       "2  Ausztriában hétfőn lépett életbe az a kormányi...  24.hu  \n",
       "3  A Riot Games animációs sorozata még a legnagyo...  24.hu  \n",
       "4  A parlament nemrég elfogadott egy módosító jav...  24.hu  "
      ]
     },
     "execution_count": 112,
     "metadata": {},
     "output_type": "execute_result"
    }
   ],
   "source": [
    "teljes_ujsag_text.head()"
   ]
  },
  {
   "cell_type": "code",
   "execution_count": 114,
   "id": "233bd51c",
   "metadata": {},
   "outputs": [],
   "source": [
    "#create basic filtering dictionary - this needs to be better made. however, this results in approximately half of the data kept\n",
    "politics_dict = [\n",
    "    \"mzp\",\n",
    "    \"karácsony\",\n",
    "    \"dobrev\",\n",
    "    \"marki-zay peter\",\n",
    "    \"márki-zay péter\",\n",
    "    \"marki zay peter\",\n",
    "    \"márki zay péter\",\n",
    "    \"dk\",\n",
    "    \"pm\",\n",
    "    \"párbeszéd\",\n",
    "    \"párbeszéd magyarországért\"\n",
    "    \"mszp\",\n",
    "    \"jobbik\",\n",
    "    \"pm\",\n",
    "    \"demokratikus koalíció\",\n",
    "    \"dobrev Klára\",\n",
    "    \"karácsony Gergely\",\n",
    "    \"választás\",\n",
    "    \"előválasztás\",\n",
    "    \"momentum\",\n",
    "    \"magyar szocialista párt\",\n",
    "    \"99 mozgalom\",\n",
    "    \"miniszterelnök\",\n",
    "    \"orbán viktor\",\n",
    "    \"kormány\",    \n",
    "]"
   ]
  },
  {
   "cell_type": "code",
   "execution_count": 115,
   "id": "a66d9a69",
   "metadata": {},
   "outputs": [],
   "source": [
    "# I have decided to this in R\n",
    "#teljes_ujsag_text[\"title\"] = teljes_ujsag_text[\"title\"].apply(lambda row: row.lower())\n",
    "#teljes_ujsag_text[\"text\"] = teljes_ujsag_text[\"text\"].apply(lambda row: row.lower())"
   ]
  },
  {
   "cell_type": "code",
   "execution_count": 116,
   "id": "3c6d8e62",
   "metadata": {},
   "outputs": [],
   "source": [
    "#creation of the filter column, if it gets TRUE, we keep it.\n",
    "teljes_ujsag_text[\"title_contains\"] = teljes_ujsag_text.title.str.contains('|'.join(politics_dict))\n",
    "teljes_ujsag_text[\"title_contains\"] = teljes_ujsag_text.title.str.contains('|'.join(politics_dict))"
   ]
  },
  {
   "cell_type": "code",
   "execution_count": 118,
   "id": "3fb03dc0",
   "metadata": {},
   "outputs": [
    {
     "data": {
      "text/plain": [
       "(19220, 7)"
      ]
     },
     "execution_count": 118,
     "metadata": {},
     "output_type": "execute_result"
    }
   ],
   "source": [
    "#number of articles that get TRUE on the text contains column - \n",
    "#meaning the text of the article contains at least one element of the politics_dict\n",
    "teljes_ujsag_text.loc[lambda _df: _df[\"text_contains\"] == True,:].shape"
   ]
  },
  {
   "cell_type": "code",
   "execution_count": 119,
   "id": "62d21818",
   "metadata": {},
   "outputs": [
    {
     "data": {
      "text/plain": [
       "(5520, 7)"
      ]
     },
     "execution_count": 119,
     "metadata": {},
     "output_type": "execute_result"
    }
   ],
   "source": [
    "#telex\n",
    "teljes_ujsag_text.loc[lambda _df: (_df[\"text_contains\"] == True) & (_df[\"ujsag\"] == \"telex\"),:].shape"
   ]
  },
  {
   "cell_type": "code",
   "execution_count": 120,
   "id": "a1196299",
   "metadata": {},
   "outputs": [
    {
     "data": {
      "text/plain": [
       "(7364, 7)"
      ]
     },
     "execution_count": 120,
     "metadata": {},
     "output_type": "execute_result"
    }
   ],
   "source": [
    "#24.hu\n",
    "teljes_ujsag_text.loc[lambda _df: (_df[\"text_contains\"] == True) & (_df[\"ujsag\"] == \"24.hu\"),:].shape"
   ]
  },
  {
   "cell_type": "code",
   "execution_count": 121,
   "id": "78623990",
   "metadata": {},
   "outputs": [
    {
     "data": {
      "text/plain": [
       "(6336, 7)"
      ]
     },
     "execution_count": 121,
     "metadata": {},
     "output_type": "execute_result"
    }
   ],
   "source": [
    "#origo\n",
    "teljes_ujsag_text.loc[lambda _df: (_df[\"text_contains\"] == True) & (_df[\"ujsag\"] == \"origo\"),:].shape"
   ]
  },
  {
   "cell_type": "code",
   "execution_count": 122,
   "id": "8b143401",
   "metadata": {},
   "outputs": [],
   "source": [
    "#replacing \\n in the text with nothing\n",
    "fifty_percent_text[\"text\"] = fifty_percent_text[\"text\"].apply(lambda row: row.replace(\"\\n\",\" \"))\n",
    "teljes_ujsag_text[\"text\"] = teljes_ujsag_text[\"text\"].apply(lambda row: row.replace(\"\\n\",\" \"))"
   ]
  },
  {
   "cell_type": "code",
   "execution_count": 124,
   "id": "97c23f4e",
   "metadata": {},
   "outputs": [],
   "source": [
    "#saving the data\n",
    "fifty_percent_text.to_parquet(f\"{path_ujsagok}/fifty_percent_mzp_speech_data.parquet\")\n",
    "teljes_ujsag_text.to_parquet(f\"{path_ujsagok}/teljes_ujsag_text.parquet\")"
   ]
  },
  {
   "cell_type": "code",
   "execution_count": 125,
   "id": "f728068a",
   "metadata": {},
   "outputs": [
    {
     "data": {
      "text/html": [
       "<div>\n",
       "<style scoped>\n",
       "    .dataframe tbody tr th:only-of-type {\n",
       "        vertical-align: middle;\n",
       "    }\n",
       "\n",
       "    .dataframe tbody tr th {\n",
       "        vertical-align: top;\n",
       "    }\n",
       "\n",
       "    .dataframe thead th {\n",
       "        text-align: right;\n",
       "    }\n",
       "</style>\n",
       "<table border=\"1\" class=\"dataframe\">\n",
       "  <thead>\n",
       "    <tr style=\"text-align: right;\">\n",
       "      <th></th>\n",
       "      <th>date</th>\n",
       "      <th>url</th>\n",
       "      <th>title</th>\n",
       "      <th>text</th>\n",
       "      <th>ujsag</th>\n",
       "      <th>title_contains</th>\n",
       "      <th>text_contains</th>\n",
       "    </tr>\n",
       "  </thead>\n",
       "  <tbody>\n",
       "    <tr>\n",
       "      <th>0</th>\n",
       "      <td>2021-11-17</td>\n",
       "      <td>https://24.hu/kultura/2021/11/17/kovacs-akos-f...</td>\n",
       "      <td>A jövő év első felében mutathatják be Kovács Á...</td>\n",
       "      <td>2022 első felében mutathatják be a mozik Kovác...</td>\n",
       "      <td>24.hu</td>\n",
       "      <td>False</td>\n",
       "      <td>False</td>\n",
       "    </tr>\n",
       "    <tr>\n",
       "      <th>1</th>\n",
       "      <td>2021-11-17</td>\n",
       "      <td>https://24.hu/fn/uzleti-tippek/2021/11/17/nagy...</td>\n",
       "      <td>Így készültek a vállalatok a negyedik hullámra</td>\n",
       "      <td>Bár a nagyvállalatok többsége idén őszre már n...</td>\n",
       "      <td>24.hu</td>\n",
       "      <td>False</td>\n",
       "      <td>True</td>\n",
       "    </tr>\n",
       "    <tr>\n",
       "      <th>2</th>\n",
       "      <td>2021-11-17</td>\n",
       "      <td>https://24.hu/kulfold/2021/11/17/oltatlanok-ko...</td>\n",
       "      <td>Oltatlanok korlátozása Ausztriában: koalíciós ...</td>\n",
       "      <td>Ausztriában hétfőn lépett életbe az a kormányi...</td>\n",
       "      <td>24.hu</td>\n",
       "      <td>False</td>\n",
       "      <td>True</td>\n",
       "    </tr>\n",
       "    <tr>\n",
       "      <th>3</th>\n",
       "      <td>2021-11-17</td>\n",
       "      <td>https://24.hu/tech/2021/11/17/az-arcane-vihark...</td>\n",
       "      <td>Az Arcane viharként tarolta le a filmipart (X)</td>\n",
       "      <td>A Riot Games animációs sorozata még a legnagyo...</td>\n",
       "      <td>24.hu</td>\n",
       "      <td>False</td>\n",
       "      <td>False</td>\n",
       "    </tr>\n",
       "    <tr>\n",
       "      <th>4</th>\n",
       "      <td>2021-11-17</td>\n",
       "      <td>https://24.hu/belfold/2021/11/17/valasztasi-cs...</td>\n",
       "      <td>A kormány szerint nincs köze a választójoghoz ...</td>\n",
       "      <td>A parlament nemrég elfogadott egy módosító jav...</td>\n",
       "      <td>24.hu</td>\n",
       "      <td>True</td>\n",
       "      <td>True</td>\n",
       "    </tr>\n",
       "    <tr>\n",
       "      <th>...</th>\n",
       "      <td>...</td>\n",
       "      <td>...</td>\n",
       "      <td>...</td>\n",
       "      <td>...</td>\n",
       "      <td>...</td>\n",
       "      <td>...</td>\n",
       "      <td>...</td>\n",
       "    </tr>\n",
       "    <tr>\n",
       "      <th>52228</th>\n",
       "      <td>2021/12/31</td>\n",
       "      <td>https://www.origo.hu/itthon/20211231-baleset-m...</td>\n",
       "      <td>Halálra gázolt egy embert a metró a Kossuth té...</td>\n",
       "      <td>Elgázolt egy embert a 2-es metró Budapest V. k...</td>\n",
       "      <td>origo</td>\n",
       "      <td>False</td>\n",
       "      <td>False</td>\n",
       "    </tr>\n",
       "    <tr>\n",
       "      <th>52229</th>\n",
       "      <td>2021/12/31</td>\n",
       "      <td>https://www.origo.hu/itthon/20211231-igy-valto...</td>\n",
       "      <td>Hogy lehet közlekedni majd szilveszter este?</td>\n",
       "      <td>Szilveszterkor és az újév elején nemcsak a főv...</td>\n",
       "      <td>origo</td>\n",
       "      <td>False</td>\n",
       "      <td>False</td>\n",
       "    </tr>\n",
       "    <tr>\n",
       "      <th>52230</th>\n",
       "      <td>2021/12/31</td>\n",
       "      <td>https://www.origo.hu/itthon/20211231-kariko-ka...</td>\n",
       "      <td>Karikó Kataliné a 2021-es Golden Plate Award, ...</td>\n",
       "      <td>A sikerhez kap kulcsokat, aki megismeri az Aca...</td>\n",
       "      <td>origo</td>\n",
       "      <td>False</td>\n",
       "      <td>True</td>\n",
       "    </tr>\n",
       "    <tr>\n",
       "      <th>52231</th>\n",
       "      <td>2021/12/31</td>\n",
       "      <td>https://www.origo.hu/itthon/20211231-baleset-v...</td>\n",
       "      <td>Vonattal ütközött egy autó Döbröközön, a sofőr...</td>\n",
       "      <td>Tehervonattal ütközött egy autó a Tolna megyei...</td>\n",
       "      <td>origo</td>\n",
       "      <td>False</td>\n",
       "      <td>False</td>\n",
       "    </tr>\n",
       "    <tr>\n",
       "      <th>52232</th>\n",
       "      <td>2021/12/31</td>\n",
       "      <td>https://www.origo.hu/tafelspicc/20211231-itt-a...</td>\n",
       "      <td>Így készítse el a legegyszerűbb szilveszteri l...</td>\n",
       "      <td>Az újévi hagyományokra még azok is nagy figyel...</td>\n",
       "      <td>origo</td>\n",
       "      <td>False</td>\n",
       "      <td>True</td>\n",
       "    </tr>\n",
       "  </tbody>\n",
       "</table>\n",
       "<p>52233 rows × 7 columns</p>\n",
       "</div>"
      ],
      "text/plain": [
       "             date                                                url  \\\n",
       "0      2021-11-17  https://24.hu/kultura/2021/11/17/kovacs-akos-f...   \n",
       "1      2021-11-17  https://24.hu/fn/uzleti-tippek/2021/11/17/nagy...   \n",
       "2      2021-11-17  https://24.hu/kulfold/2021/11/17/oltatlanok-ko...   \n",
       "3      2021-11-17  https://24.hu/tech/2021/11/17/az-arcane-vihark...   \n",
       "4      2021-11-17  https://24.hu/belfold/2021/11/17/valasztasi-cs...   \n",
       "...           ...                                                ...   \n",
       "52228  2021/12/31  https://www.origo.hu/itthon/20211231-baleset-m...   \n",
       "52229  2021/12/31  https://www.origo.hu/itthon/20211231-igy-valto...   \n",
       "52230  2021/12/31  https://www.origo.hu/itthon/20211231-kariko-ka...   \n",
       "52231  2021/12/31  https://www.origo.hu/itthon/20211231-baleset-v...   \n",
       "52232  2021/12/31  https://www.origo.hu/tafelspicc/20211231-itt-a...   \n",
       "\n",
       "                                                   title  \\\n",
       "0      A jövő év első felében mutathatják be Kovács Á...   \n",
       "1         Így készültek a vállalatok a negyedik hullámra   \n",
       "2      Oltatlanok korlátozása Ausztriában: koalíciós ...   \n",
       "3         Az Arcane viharként tarolta le a filmipart (X)   \n",
       "4      A kormány szerint nincs köze a választójoghoz ...   \n",
       "...                                                  ...   \n",
       "52228  Halálra gázolt egy embert a metró a Kossuth té...   \n",
       "52229       Hogy lehet közlekedni majd szilveszter este?   \n",
       "52230  Karikó Kataliné a 2021-es Golden Plate Award, ...   \n",
       "52231  Vonattal ütközött egy autó Döbröközön, a sofőr...   \n",
       "52232  Így készítse el a legegyszerűbb szilveszteri l...   \n",
       "\n",
       "                                                    text  ujsag  \\\n",
       "0      2022 első felében mutathatják be a mozik Kovác...  24.hu   \n",
       "1      Bár a nagyvállalatok többsége idén őszre már n...  24.hu   \n",
       "2      Ausztriában hétfőn lépett életbe az a kormányi...  24.hu   \n",
       "3      A Riot Games animációs sorozata még a legnagyo...  24.hu   \n",
       "4      A parlament nemrég elfogadott egy módosító jav...  24.hu   \n",
       "...                                                  ...    ...   \n",
       "52228  Elgázolt egy embert a 2-es metró Budapest V. k...  origo   \n",
       "52229  Szilveszterkor és az újév elején nemcsak a főv...  origo   \n",
       "52230  A sikerhez kap kulcsokat, aki megismeri az Aca...  origo   \n",
       "52231  Tehervonattal ütközött egy autó a Tolna megyei...  origo   \n",
       "52232  Az újévi hagyományokra még azok is nagy figyel...  origo   \n",
       "\n",
       "       title_contains  text_contains  \n",
       "0               False          False  \n",
       "1               False           True  \n",
       "2               False           True  \n",
       "3               False          False  \n",
       "4                True           True  \n",
       "...               ...            ...  \n",
       "52228           False          False  \n",
       "52229           False          False  \n",
       "52230           False           True  \n",
       "52231           False          False  \n",
       "52232           False           True  \n",
       "\n",
       "[52233 rows x 7 columns]"
      ]
     },
     "execution_count": 125,
     "metadata": {},
     "output_type": "execute_result"
    }
   ],
   "source": [
    "teljes_ujsag_text"
   ]
  },
  {
   "cell_type": "code",
   "execution_count": null,
   "id": "59d9edda",
   "metadata": {},
   "outputs": [],
   "source": []
  }
 ],
 "metadata": {
  "kernelspec": {
   "display_name": "Python 3 (ipykernel)",
   "language": "python",
   "name": "python3"
  },
  "language_info": {
   "codemirror_mode": {
    "name": "ipython",
    "version": 3
   },
   "file_extension": ".py",
   "mimetype": "text/x-python",
   "name": "python",
   "nbconvert_exporter": "python",
   "pygments_lexer": "ipython3",
   "version": "3.10.4"
  }
 },
 "nbformat": 4,
 "nbformat_minor": 5
}
